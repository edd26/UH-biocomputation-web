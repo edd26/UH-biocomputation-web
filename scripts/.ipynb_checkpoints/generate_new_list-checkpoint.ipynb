{
 "cells": [
  {
   "cell_type": "code",
   "execution_count": 7,
   "metadata": {},
   "outputs": [],
   "source": [
    "from random import shuffle\n",
    "import numpy as np\n",
    "import csv"
   ]
  },
  {
   "cell_type": "code",
   "execution_count": 24,
   "metadata": {},
   "outputs": [],
   "source": [
    "core_staff = [\"Na Helian\", \"Shabnam Kadir\", \"Rod Adams\", \"Rene te Boekhorst\", \"Volker Steuber\"]\n",
    "research_fellows = [\"Mohammad Tayarani-Najaran\", \"Reinoud Maex\", \"Yi Sun\", \"Damien Drix\", \"Ritesh Kumar\"]\n",
    "active_students = [\"Yaqoob Muhammad\", \"Emil Dmitruk  \", \"Ohki Katakura\", \"Rebecca Miko\", \"Nathan Beka\", \"Ankur Sinha\", \"Deepak Panday\", \"Sam Sutton\"]\n",
    "# -Julia Goncharenko\n",
    "unknown_status= [\"Ronak Bhavsar\", \"Udeshika Dissanayake\", \"Edward Wakelam\", \"Marco Craveiro\"]\n",
    "\n",
    "csv_file_name = \"rota-data-2019b.csv\""
   ]
  },
  {
   "cell_type": "code",
   "execution_count": 3,
   "metadata": {},
   "outputs": [],
   "source": [
    "everyone_list = core_staff + research_fellows + active_students\n",
    "non_core_list = research_fellows+ active_students"
   ]
  },
  {
   "cell_type": "code",
   "execution_count": 4,
   "metadata": {},
   "outputs": [],
   "source": [
    "def shuffle_list(new_list):\n",
    "    print (\"Original list : {}\\n\\n\".format(new_list))\n",
    "    shuffle(new_list)\n",
    "    print (\"List after first shuffle: {}\".format(new_list))\n",
    "\n",
    "#     shuffle(new_list)\n",
    "#     print (\"List after second shuffle  : \",  new_list)"
   ]
  },
  {
   "cell_type": "code",
   "execution_count": 5,
   "metadata": {},
   "outputs": [
    {
     "name": "stdout",
     "output_type": "stream",
     "text": [
      "Original list : ['Na Helian', 'Shabnam Kadir', 'Rod Adams', 'Rene te Boekhorst', 'Volker Steuber', 'Mohammad Tayarani-Najaran', 'Reinoud Maex', 'Yi Sun', 'Damien Drix', 'Ritesh Kumar', 'Yaqoob Muhammad', 'Emil Dmitruk  ', 'Ohki Katakura', 'Rebecca Miko', 'Nathan Beka', 'Ankur Sinha', 'Deepak Panday', 'Sam Sutton']\n",
      "\n",
      "\n",
      "List after first shuffle: ['Rebecca Miko', 'Nathan Beka', 'Volker Steuber', 'Ankur Sinha', 'Deepak Panday', 'Shabnam Kadir', 'Yaqoob Muhammad', 'Reinoud Maex', 'Ohki Katakura', 'Sam Sutton', 'Mohammad Tayarani-Najaran', 'Rene te Boekhorst', 'Yi Sun', 'Rod Adams', 'Damien Drix', 'Ritesh Kumar', 'Na Helian', 'Emil Dmitruk  ']\n"
     ]
    }
   ],
   "source": [
    "shuffle_list(everyone_list)"
   ]
  },
  {
   "cell_type": "code",
   "execution_count": 17,
   "metadata": {},
   "outputs": [],
   "source": [
    "final_list = ['Rebecca Miko', 'Nathan Beka', 'Volker Steuber', 'Ankur Sinha', 'Deepak Panday', 'Shabnam Kadir', 'Yaqoob Muhammad', 'Reinoud Maex', 'Ohki Katakura', 'Sam Sutton', 'Mohammad Tayarani-Najaran', 'Rene te Boekhorst', 'Yi Sun', 'Rod Adams', 'Damien Drix', 'Ritesh Kumar', 'Na Helian', 'Emil Dmitruk  ']"
   ]
  },
  {
   "cell_type": "code",
   "execution_count": 28,
   "metadata": {},
   "outputs": [],
   "source": [
    "csv_line_template = \"{},\\\"\\\",\\\"\\\",0,0,0,0,1\\n\"\n"
   ]
  },
  {
   "cell_type": "code",
   "execution_count": 29,
   "metadata": {},
   "outputs": [
    {
     "name": "stdout",
     "output_type": "stream",
     "text": [
      "Rebecca Miko,\"\",\"\",0,0,0,\"D118, University of Hertfordshire, College Lane, Hatfield, UK, AL10 9AB\",1\n",
      "\n",
      "Nathan Beka,\"\",\"\",0,0,0,\"D118, University of Hertfordshire, College Lane, Hatfield, UK, AL10 9AB\",1\n",
      "\n",
      "Volker Steuber,\"\",\"\",0,0,0,\"D118, University of Hertfordshire, College Lane, Hatfield, UK, AL10 9AB\",1\n",
      "\n",
      "Ankur Sinha,\"\",\"\",0,0,0,\"D118, University of Hertfordshire, College Lane, Hatfield, UK, AL10 9AB\",1\n",
      "\n",
      "Deepak Panday,\"\",\"\",0,0,0,\"D118, University of Hertfordshire, College Lane, Hatfield, UK, AL10 9AB\",1\n",
      "\n",
      "Shabnam Kadir,\"\",\"\",0,0,0,\"D118, University of Hertfordshire, College Lane, Hatfield, UK, AL10 9AB\",1\n",
      "\n",
      "Yaqoob Muhammad,\"\",\"\",0,0,0,\"D118, University of Hertfordshire, College Lane, Hatfield, UK, AL10 9AB\",1\n",
      "\n",
      "Reinoud Maex,\"\",\"\",0,0,0,\"D118, University of Hertfordshire, College Lane, Hatfield, UK, AL10 9AB\",1\n",
      "\n",
      "Ohki Katakura,\"\",\"\",0,0,0,\"D118, University of Hertfordshire, College Lane, Hatfield, UK, AL10 9AB\",1\n",
      "\n",
      "Sam Sutton,\"\",\"\",0,0,0,\"D118, University of Hertfordshire, College Lane, Hatfield, UK, AL10 9AB\",1\n",
      "\n",
      "Mohammad Tayarani-Najaran,\"\",\"\",0,0,0,\"D118, University of Hertfordshire, College Lane, Hatfield, UK, AL10 9AB\",1\n",
      "\n",
      "Rene te Boekhorst,\"\",\"\",0,0,0,\"D118, University of Hertfordshire, College Lane, Hatfield, UK, AL10 9AB\",1\n",
      "\n",
      "Yi Sun,\"\",\"\",0,0,0,\"D118, University of Hertfordshire, College Lane, Hatfield, UK, AL10 9AB\",1\n",
      "\n",
      "Rod Adams,\"\",\"\",0,0,0,\"D118, University of Hertfordshire, College Lane, Hatfield, UK, AL10 9AB\",1\n",
      "\n",
      "Damien Drix,\"\",\"\",0,0,0,\"D118, University of Hertfordshire, College Lane, Hatfield, UK, AL10 9AB\",1\n",
      "\n",
      "Ritesh Kumar,\"\",\"\",0,0,0,\"D118, University of Hertfordshire, College Lane, Hatfield, UK, AL10 9AB\",1\n",
      "\n",
      "Na Helian,\"\",\"\",0,0,0,\"D118, University of Hertfordshire, College Lane, Hatfield, UK, AL10 9AB\",1\n",
      "\n",
      "Emil Dmitruk  ,\"\",\"\",0,0,0,\"D118, University of Hertfordshire, College Lane, Hatfield, UK, AL10 9AB\",1\n",
      "\n"
     ]
    }
   ],
   "source": [
    "\n",
    "for person in final_list:\n",
    "        print(csv_line_template.format(person))"
   ]
  },
  {
   "cell_type": "code",
   "execution_count": 30,
   "metadata": {},
   "outputs": [],
   "source": [
    "\n",
    "with open(csv_file_name, mode='w') as rota_file:\n",
    "    for person in final_list:\n",
    "        rota_file.write(csv_line_template.format(person))\n"
   ]
  },
  {
   "cell_type": "code",
   "execution_count": null,
   "metadata": {},
   "outputs": [],
   "source": []
  }
 ],
 "metadata": {
  "@webio": {
   "lastCommId": null,
   "lastKernelId": null
  },
  "kernelspec": {
   "display_name": "Python 3",
   "language": "python",
   "name": "python3"
  },
  "language_info": {
   "codemirror_mode": {
    "name": "ipython",
    "version": 3
   },
   "file_extension": ".py",
   "mimetype": "text/x-python",
   "name": "python",
   "nbconvert_exporter": "python",
   "pygments_lexer": "ipython3",
   "version": "3.7.3"
  }
 },
 "nbformat": 4,
 "nbformat_minor": 2
}
